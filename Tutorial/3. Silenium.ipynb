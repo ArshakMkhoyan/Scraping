{
 "cells": [
  {
   "cell_type": "markdown",
   "metadata": {},
   "source": [
    "### 1) Info on top taxpayers in provided on https://www.harkatu.am/ in a JavaScript gen erated table.\n",
    "\n",
    "- a) scrape the paid taxes, organization name and industry for top 200 taxpayers (last Quarter) .\n",
    "- b) what is the average tax paid?\n",
    "- c) what is the top industry in the scraped list?"
   ]
  },
  {
   "cell_type": "code",
   "execution_count": 1,
   "metadata": {},
   "outputs": [],
   "source": [
    "import requests\n",
    "from selenium import webdriver\n",
    "from scrapy.http import TextResponse\n",
    "import time\n",
    "import pandas as pd"
   ]
  },
  {
   "cell_type": "code",
   "execution_count": 1,
   "metadata": {},
   "outputs": [
    {
     "ename": "NameError",
     "evalue": "name 'pd' is not defined",
     "output_type": "error",
     "traceback": [
      "\u001b[0;31m---------------------------------------------------------------------------\u001b[0m",
      "\u001b[0;31mNameError\u001b[0m                                 Traceback (most recent call last)",
      "\u001b[0;32m<ipython-input-1-a6d1a12cd9a9>\u001b[0m in \u001b[0;36m<module>\u001b[0;34m\u001b[0m\n\u001b[1;32m     13\u001b[0m     \u001b[0;32mreturn\u001b[0m \u001b[0mpd\u001b[0m\u001b[0;34m.\u001b[0m\u001b[0mDataFrame\u001b[0m\u001b[0;34m(\u001b[0m\u001b[0;34m{\u001b[0m\u001b[0;34m\"Compnay\"\u001b[0m\u001b[0;34m:\u001b[0m\u001b[0mcompany\u001b[0m\u001b[0;34m,\u001b[0m\u001b[0;34m\"Industry\"\u001b[0m\u001b[0;34m:\u001b[0m\u001b[0mindustry\u001b[0m\u001b[0;34m,\u001b[0m\u001b[0;34m\"Tax Paid\"\u001b[0m\u001b[0;34m:\u001b[0m\u001b[0mtaxes\u001b[0m\u001b[0;34m}\u001b[0m\u001b[0;34m)\u001b[0m\u001b[0;34m\u001b[0m\u001b[0;34m\u001b[0m\u001b[0m\n\u001b[1;32m     14\u001b[0m \u001b[0;34m\u001b[0m\u001b[0m\n\u001b[0;32m---> 15\u001b[0;31m \u001b[0mdata_frames\u001b[0m\u001b[0;34m=\u001b[0m\u001b[0mpd\u001b[0m\u001b[0;34m.\u001b[0m\u001b[0mconcat\u001b[0m\u001b[0;34m(\u001b[0m\u001b[0;34m[\u001b[0m\u001b[0mget_table\u001b[0m\u001b[0;34m(\u001b[0m\u001b[0mi\u001b[0m\u001b[0;34m)\u001b[0m \u001b[0;32mfor\u001b[0m \u001b[0mi\u001b[0m \u001b[0;32min\u001b[0m \u001b[0murls\u001b[0m\u001b[0;34m]\u001b[0m\u001b[0;34m,\u001b[0m\u001b[0mignore_index\u001b[0m\u001b[0;34m=\u001b[0m\u001b[0;32mTrue\u001b[0m\u001b[0;34m)\u001b[0m\u001b[0;34m\u001b[0m\u001b[0;34m\u001b[0m\u001b[0m\n\u001b[0m\u001b[1;32m     16\u001b[0m \u001b[0mprint\u001b[0m\u001b[0;34m(\u001b[0m\u001b[0mdata_frames\u001b[0m\u001b[0;34m.\u001b[0m\u001b[0mhead\u001b[0m\u001b[0;34m(\u001b[0m\u001b[0;34m)\u001b[0m\u001b[0;34m)\u001b[0m\u001b[0;34m\u001b[0m\u001b[0;34m\u001b[0m\u001b[0m\n",
      "\u001b[0;31mNameError\u001b[0m: name 'pd' is not defined"
     ]
    }
   ],
   "source": [
    "urls=['https://harkatu.am/companies/hy?0#p/{}'.format(i) for i in range(1,5)]\n",
    "\n",
    "def get_table(url):\n",
    "    browser=webdriver.Chrome('/home/arshak/Desktop/Scrapping/chromedriver')\n",
    "    browser.get(url)\n",
    "    time.sleep(10)\n",
    "    page=browser.page_source\n",
    "    respone=TextResponse(body=page,url=browser.current_url,encoding=\"utf-8\")\n",
    "    taxes=[float(i.replace(\",\",'')) for i in respone.css(\"td>div[class='volume']::text\").extract()[2::3]]\n",
    "    industry=[i.text for i in browser.find_elements_by_class_name(\"industry\")]\n",
    "    company=respone.css(\"div[class='itemname']>h1>a>span::text\").extract()\n",
    "    browser.close()\n",
    "    return pd.DataFrame({\"Compnay\":company,\"Industry\":industry,\"Tax Paid\":taxes})\n",
    "\n",
    "data_frames=pd.concat([get_table(i) for i in urls],ignore_index=True)\n",
    "print(data_frames.head())"
   ]
  }
 ],
 "metadata": {
  "kernelspec": {
   "display_name": "Python 3",
   "language": "python",
   "name": "python3"
  },
  "language_info": {
   "codemirror_mode": {
    "name": "ipython",
    "version": 3
   },
   "file_extension": ".py",
   "mimetype": "text/x-python",
   "name": "python",
   "nbconvert_exporter": "python",
   "pygments_lexer": "ipython3",
   "version": "3.6.8"
  }
 },
 "nbformat": 4,
 "nbformat_minor": 2
}
