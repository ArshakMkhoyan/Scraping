{
 "cells": [
  {
   "cell_type": "markdown",
   "metadata": {
    "colab_type": "text",
    "id": "BQHS2z2jGX2h"
   },
   "source": [
    "# Introduction to Selenium\n",
    "\n",
    "Pages that require the user to take actions to provide data (especially when URL is unchanged) cannot be scraped using \"traditional methods\". Selenium can be helpful in those cases. This notebook provides Selenium code to scrape roadpolice.am"
   ]
  },
  {
   "cell_type": "markdown",
   "metadata": {
    "colab_type": "text",
    "id": "gsu1pDLdGX2k"
   },
   "source": [
    "[**Selenium**](http://selenium-python.readthedocs.io/index.html). First of all, you need to ahve it installed by running the following command in the command prompt:\n",
    "\n",
    "`\n",
    "pip install selenium\n",
    "`\n",
    "\n",
    "Once **selenium** is installed you need to download the webdriver of your browser to your local directory. For example, if your notebook is inside the **Data_Scraping** folder, and your are using the Chrome/Firefox webbrowser, then you may download the drivers from here:\n",
    "\n",
    "\n",
    "- [Chrome driver](https://sites.google.com/a/chromium.org/chromedriver/downloads)"
   ]
  },
  {
   "cell_type": "code",
   "execution_count": 3,
   "metadata": {
    "colab": {},
    "colab_type": "code",
    "id": "Oj71p_0GGweg"
   },
   "outputs": [
    {
     "name": "stdout",
     "output_type": "stream",
     "text": [
      "Traceback (most recent call last):\r\n",
      "  File \"/usr/local/bin/pip\", line 10, in <module>\r\n",
      "    sys.exit(main())\r\n",
      "TypeError: 'module' object is not callable\r\n"
     ]
    }
   ],
   "source": [
    "# !pip install selenium\n",
    "# !pip install scrapy"
   ]
  },
  {
   "cell_type": "code",
   "execution_count": 13,
   "metadata": {
    "colab": {},
    "colab_type": "code",
    "id": "YkPdouJSGX2l"
   },
   "outputs": [],
   "source": [
    "import pandas as pd\n",
    "import requests\n",
    "from scrapy.http import TextResponse\n",
    "import time\n",
    "import numpy as np\n",
    "import re\n",
    "from textblob import TextBlob, Word #???\n",
    "from nltk.stem import PorterStemmer, WordNetLemmatizer\n",
    "import matplotlib.pyplot as plt\n",
    "from nltk.tokenize import sent_tokenize, word_tokenize\n",
    "from nltk.corpus import stopwords\n",
    "from selenium import webdriver\n",
    "from selenium.webdriver.common.keys import Keys"
   ]
  },
  {
   "cell_type": "code",
   "execution_count": 5,
   "metadata": {
    "colab": {},
    "colab_type": "code",
    "id": "7LGSiNYzGX2n"
   },
   "outputs": [],
   "source": [
    "pin='19DEGRCHRSTZ' #random violation code found from in the facebook group just for teaching purpose    \n",
    "url_p='https://offense.roadpolice.am/violation' #website where the code of vilation will be used"
   ]
  },
  {
   "cell_type": "code",
   "execution_count": 47,
   "metadata": {
    "colab": {
     "base_uri": "https://localhost:8080/",
     "height": 421
    },
    "colab_type": "code",
    "id": "bKf1q4ljGX2q",
    "outputId": "da21ebdb-dce3-4e73-b41a-39e085484f09"
   },
   "outputs": [],
   "source": [
    "browser = webdriver.Chrome('/home/arshak/Desktop/Scrapping/chromedriver') #selenium lets us to control chrome page, each time we need to run this for new url"
   ]
  },
  {
   "cell_type": "code",
   "execution_count": 48,
   "metadata": {
    "colab": {},
    "colab_type": "code",
    "id": "USfbeJyiGX2s"
   },
   "outputs": [],
   "source": [
    "browser.get(url_p) #open the given browser"
   ]
  },
  {
   "cell_type": "code",
   "execution_count": 35,
   "metadata": {
    "colab": {},
    "colab_type": "code",
    "id": "cNS30ZQ3GX2u"
   },
   "outputs": [],
   "source": [
    "# browser.close() #close the open browser"
   ]
  },
  {
   "cell_type": "markdown",
   "metadata": {
    "colab_type": "text",
    "id": "s57BTZKGGX2w"
   },
   "source": [
    "Inspect the open website:  #<input type=\"text\" maxlength=\"12\" <b>id=\"pin\"</b> class=\"fs22\" name=\"pin-number\" value=\"\" autofocus=\"\">. \n",
    "\n",
    "Note: id=pin will be used further."
   ]
  },
  {
   "cell_type": "code",
   "execution_count": 49,
   "metadata": {
    "colab": {},
    "colab_type": "code",
    "id": "RLVT9huCGX2x",
    "outputId": "050109af-3deb-4b9d-a163-ba515ba20252"
   },
   "outputs": [
    {
     "name": "stdout",
     "output_type": "stream",
     "text": [
      "<selenium.webdriver.remote.webelement.WebElement (session=\"5537f8ca572a427f1f3f5ece00fc7caf\", element=\"c918812f-ccbe-4418-9354-e792f04b6bd1\")>\n"
     ]
    }
   ],
   "source": [
    "pin_space=browser.find_element_by_id('pin')\n",
    "print(pin_space)"
   ]
  },
  {
   "cell_type": "code",
   "execution_count": 50,
   "metadata": {
    "colab": {},
    "colab_type": "code",
    "id": "BpwZ4JbNGX20"
   },
   "outputs": [],
   "source": [
    "#to put pin in a open space in the website\n",
    "pin_space.send_keys(pin)"
   ]
  },
  {
   "cell_type": "code",
   "execution_count": 51,
   "metadata": {
    "colab": {},
    "colab_type": "code",
    "id": "q7cmsYqdGX22"
   },
   "outputs": [],
   "source": [
    "#submit the sent code\n",
    "pin_space.submit()"
   ]
  },
  {
   "cell_type": "code",
   "execution_count": 52,
   "metadata": {
    "colab": {},
    "colab_type": "code",
    "id": "_Wtm4noaGX24"
   },
   "outputs": [],
   "source": [
    "page=browser.page_source #to use this to ger bage source"
   ]
  },
  {
   "cell_type": "code",
   "execution_count": 53,
   "metadata": {
    "colab": {},
    "colab_type": "code",
    "id": "KXumxQ9qGX27"
   },
   "outputs": [],
   "source": [
    "browser.close() #after page we don't need the browser to be open anymore"
   ]
  },
  {
   "cell_type": "code",
   "execution_count": 54,
   "metadata": {
    "colab": {},
    "colab_type": "code",
    "id": "6TGgimIXGX29",
    "outputId": "ab9eba21-c18d-4a95-854b-effc35c1e969"
   },
   "outputs": [
    {
     "data": {
      "text/plain": [
       "'<html lang=\"en\"><head>\\n\\t<meta charset=\"UTF-8\">\\n\\t<meta name=\"viewport\" content=\"width=device-width, initial-scale=1, maximum-scale=1, user-scalable=no\">\\n\\t<meta name=\"format-detection\" content=\"telephone=no\">\\n\\t<title>ՀՀ Ճանապարհային ոստիկանության ծառայության տեխնիկական միջոցների օգտագործմամբ ստացված իրավախախտումների համակարգ</title>\\n\\t<link href=\"/css/main.css?v=78\" rel=\"stylesheet\" type=\"text/css\"><script type=\"text/javascript\" async=\"\" src=\"https://ssl.google-analytics.com/ga.js\"></script><script type=\"text/javascript\" src=\"/js/jquery-3.1.0.min.js?v=78\"></script><script type=\"text/javascript\" src=\"/js/main.js?v=78\"></script><script type=\"text/javascript\" src=\"/js/violation.js?v=78\"></script>\\n\\t<link rel=\"icon\" href=\"https://offense.roadpolice.am/favicon.png\">\\n\\t<link rel=\"shortcut icon\" href=\"https://offense.roadpolice.am/favicon.ico\">\\n</head>\\n<body>\\n\\n<script>\\n\\tvar $locSettings = {\"trans\":{\"pin.error.wrong_format\":\"\\\\u0546\\\\u0565\\\\u0580\\\\u0574\\\\u0578\\\\u0582\\\\u056e\\\\u057e\\\\u0561\\\\u056e PIN-\\\\u0568  \\\\u0569\\\\u0565\\\\u0580\\\\u056b \\\\u0567:<br \\\\/>\\\\u0546\\\\u056b\\\\u0577\\\\u0565\\\\u0580\\\\u056b \\\\u0584\\\\u0561\\\\u0576\\\\u0561\\\\u056f\\\\u0568 \\\\u057a\\\\u0565\\\\u057f\\\\u0584 \\\\u0567 \\\\u056c\\\\u056b\\\\u0576\\\\u056b 12\",\"pin.error.wrong_pin\":\"{pin} \\\\u0561\\\\u0576\\\\u0570\\\\u0561\\\\u057f\\\\u0561\\\\u056f\\\\u0561\\\\u0576 \\\\u056e\\\\u0561\\\\u056e\\\\u056f\\\\u0561\\\\u0563\\\\u0580\\\\u0578\\\\u057e \\\\u0578\\\\u0580\\\\u0578\\\\u0577\\\\u0578\\\\u0582\\\\u0574 \\\\u0563\\\\u0578\\\\u0575\\\\u0578\\\\u0582\\\\u0569\\\\u0575\\\\u0578\\\\u0582\\\\u0576 \\\\u0579\\\\u0578\\\\u0582\\\\u0576\\\\u056b:\"}};\\n</script>\\n\\n<main class=\"wrapper\">\\n\\t\\n<div class=\"wrapper-inner\">\\n\\n\\t<div class=\"wrapper-top clear-fix\">\\n\\t\\t<h1 class=\"logo\">\\n\\t\\t\\t<a href=\"#\"></a>\\n\\t\\t</h1>\\n\\t\\t<h2 class=\"fb fs22 title\">Ճանապարհային ոստիկանության տեսանկարահանող և լուսանկարահանող սարքերով հայտնաբերված իրավախախտումների համակարգ</h2>\\n\\t</div>\\n\\t<div id=\"violation-top\" style=\"display: none;\">\\n\\t\\t<form action=\"#\" method=\"post\" id=\"form-block\" class=\"violation\" autocomplete=\"off\">\\n\\t\\t\\t<h2 class=\"fs16 pin-title\">Մուտքագրեք վարչական տույժ նշանակելու մասին որոշման անհատական ծածկագիրը (PIN#)</h2>\\n\\t\\t\\t<h2 class=\"fs16 act-title dn\">Մուտքագրեք վարչական տույժ նշանակելու մասին որոշման համարը</h2>\\n\\t\\t\\t<div class=\"form-box\">\\n\\t\\t\\t\\t<input type=\"text\" maxlength=\"12\" id=\"pin\" class=\"fs22\" name=\"pin-number\" value=\"\" autofocus=\"\">\\n\\t\\t\\t\\t<input type=\"text\" id=\"act\" class=\"fs22 dn\" name=\"act-number\" value=\"\" autofocus=\"\">\\n\\t\\t\\t\\t<p id=\"form-error-pin\" class=\"form-error-message fs14\"></p>\\n\\t\\t\\t</div>\\n\\t\\t\\t<div class=\"form-box text-center pr\">\\n\\t\\t\\t\\t<div id=\"success-alert\" class=\"error-alert dn\">\\n\\t\\t\\t\\t\\t<a href=\"#\" id=\"close-icon\"></a>\\n\\t\\t\\t\\t\\t<div class=\"success-alert-inner\">\\n\\t\\t\\t\\t\\t\\t<p class=\"fs16\"></p>\\n\\t\\t\\t\\t\\t</div>\\n\\t\\t\\t\\t</div>\\n\\t\\t\\t\\t<button class=\"fs16 blue-btn\" type=\"submit\">Տեսնել</button>\\n\\t\\t\\t</div>\\n\\t\\t</form>\\n\\t\\t<div class=\"separate-line horizontal-line\"></div>\\n\\t\\t<div class=\"wrapper-bottom text-center\">\\n\\t\\t\\t<img class=\"ver-top-box\" src=\"images/reg-icon.png\" alt=\"\">\\n\\t\\t\\t<h2 class=\"reg-info fs20\">Գրանցվեք և ստացեք բոլոր իրավախախտումները Ձեր էլ․ փոստին</h2>\\n\\t\\t\\t<div class=\"reg-block\">\\n\\t\\t\\t\\t<a href=\"https://sms.roadpolice.am/\" class=\"ver-top-box reg-btn\">Գրանցվել</a>\\n\\t\\t\\t</div>\\n\\t\\t</div>\\n\\t</div>\\n</div>\\n\\n<div id=\"result\" class=\"\">\\n\\n\\t<div class=\"back-block text-center\">\\n\\t\\t<a class=\"result-back-btn fs16\" href=\"https://offense.roadpolice.am/violation\">Վերադառնալ</a>\\n\\t</div>\\n\\n\\t<div id=\"result-inner\"><div id=\"wrapper\">\\n\\t<table width=\"100%\">\\n\\t<tbody><tr>\\n\\t    <td style=\"text-align: center\"><b>Հայաստանի Հանրապետության<br>ոստիկանության «Ճանապարհային ոստիկանություն» ծառայություն</b></td>\\n\\t</tr>\\n\\t</tbody></table>\\n\\n\\t\\n\\t<p style=\"text-align: center\">\\n\\t<b style=\"font-size: 10pt;\">ՈՐՈՇՈՒՄ № 1909702337</b>\\n\\t<br>\\n\\t<b>Վարչական տույժ նշանակելու մասին</b>\\n\\t</p>\\n\\t\\t<p><b>ք.Երևան, 11 հուլիսի 2019թ.</b></p><p style=\"text-align: justify\">Ճանապարհային ոստիկանության տեսանկարահանման միջոցով հայտնաբերված խախտումների արձանագրման կենտրոնի տեսուչ Հարություն Հակոբյանս համադրելով տեխնիկական միջոցի օգտագործմամբ ստացված տեսանյութում ամրագրված արարքի հատկանիշները (անհատական ծածկագիր` <strong>PIN #19DEGRCHRSTZ</strong>) իրավախախտման հատկանիշների հետ`</p>\\n\\t<p style=\"text-align: center\"><b>ՊԱՐԶԵՑԻ</b></p>\\n\\t<table border=\"1\" cellpadding=\"3\" id=\"main_data\">\\n\\t    <tbody><tr>\\n\\t        <td rowspan=\"5\">Տրանսպորտային միջոցի</td>\\n\\t        <td>մակնիշը</td>\\n\\t        <td>LEXUS</td>\\n\\t    </tr>\\n\\t    <tr>\\n\\t        <td>համարանիշը</td>\\n\\t        <td>21CT200</td>\\n\\t    </tr>\\n\\t    <tr>\\n\\t        <td>գույնը</td>\\n\\t        <td>ՍՊԻՏԱԿ ՍՊԻՏԱԿ ՄԱՐԳԱՐԻՏ ՄԵՏԱՂԱԿԱՆ </td>\\n\\t    </tr><tr>\\n\\t\\t        <td>գրանցման (հաշվառման) հասցեն</td>\\n\\t\\t        <td>ԵՐԵՎԱՆ, ՇԵՆԳԱՎԻԹ, ԱՐՏԱՇԻՍՅԱՆ Փ., Շ 40/8, ԲՆ . 15</td>\\n\\t\\t    </tr><tr>\\n\\t        <td>սեփականատերը, լիզինգի պայմանագրով վարձակալը կամ շահագործող պետական մարմինը</td>\\n\\t        <td>ԳԵՎՈՐԳ ՀԱՐՈՒԹՅՈՒՆԻ ՀԱՐՈՒԹՅՈՒՆՅԱՆ</td>\\n\\t    </tr>\\n\\t    <tr>\\n\\t        <td rowspan=\"2\">Խախտման</td>\\n\\t        <td>օրը, ամիսը, տարին, ժամը, րոպեն</td>\\n\\t        <td>19 հնս. 2019թ. Ժամը` 16:54</td>\\n\\t    </tr>\\n\\t    <tr>\\n\\t        <td>վայրը</td>\\n\\t        <td>ք. Երևան, Վ. Համբարձումյան / Երզնկյան / Բաղրամյան խաչմերուկի հատված</td>\\n\\t    </tr>\\n\\t    <tr>\\n\\t        <td>Խախտված իրավանորմը</td>\\n\\t        <td colspan=\"2\">ՀՀ կառավարության 2007 թվականի հունիսի 28-ի 955-Ն որոշման Հավելված N 1-ի Ձև N 1-ի 5.15.1. «Երթևեկության ուղղությունները գոտիներով» ճանապարհային նշան</td>\\n\\t    </tr>\\n\\t    <tr>\\n\\t        <td>Հաստատված հանգամանքները</td>\\n\\t        <td colspan=\"2\">երթևեկել է «Երթևեկության ուղղությունները գոտիներով» ճանապարհային նշանով տվյալ գոտու համար չթույլատրված ուղղությամբ</td>\\n\\t    </tr>\\n\\t    <tr>\\n\\t        <td>Վարչական պատասխանատվություն նախատեսող նորմատիվ ակտը</td>\\n\\t        <td colspan=\"2\">Վարչական իրավախախտումների վերաբերյալ ՀՀ օրենսգրքի 124-րդ հոդվածի 1-ին մաս</td>\\n\\t    </tr>\\n\\t</tbody></table><p style=\"text-align: justify\">Ելնելով վերոգրյալից և ղեկավարվելով Վարչական իրավախախտումների վերաբերյալ ՀՀ օրենսգրքի 32-րդ հոդվածի 3-րդ մասով, 224-րդ հոդվածի 2-րդ մասով`</p><p style=\"text-align: center\"><b>ՈՐՈՇԵՑԻ</b></p>\\n\\t<ol>\\n\\t\\t    <li style=\"text-align: justify\">Վարչական իրավախախտումների վերաբերյալ ՀՀ օրենսգրքի 124-րդ հոդվածի 1-ին մասի համաձայն, ԳԵՎՈՐԳ ՀԱՐՈՒԹՅՈՒՆԻ ՀԱՐՈՒԹՅՈՒՆՅԱՆ-ին տուգանել <b>5000 (հինգ հազար) դրամ (<a href=\"https://www.e-payments.am/hy/fines/step3/service=1111/?police_pin=19DEGRCHRSTZ\" target=\"_blank\">Վճարել առցանց</a>):</b></li>\\n\\t    <li style=\"text-align: justify\">Սույն որոշումն ուժի մեջ է մտնում հանձնելու (հանձնված համարվելու) օրվան հաջորդող օրը:</li>\\n\\t    <li style=\"text-align: justify\">Սույն որոշմամբ նշանակված տուգանքի վճարման հաշվեհամարն է` 900013150058:</li>\\n\\t    <li style=\"text-align: justify\">Սույն որոշումը կարող է բողոքարկվել Ճանապարհային ոստիկանության պետին` Վարչական իրավախախտումների վերաբերյալ ՀՀ օրենսգրքի 283-րդ հոդվածով սահմանված կարգով հանձնելու (հանձնված համարվելու) օրվանից հետո՝ երեսուն օրվա ընթացքում կամ ՀՀ վարչական դատարան` օրենքով սահմանված կարգով և ժամկետներում:</li></ol>\\n\\t\\n\\t<hr><p></p><p class=\"download-video\"><a href=\"/api/video.php?f=BAGHR_ERZNK0&amp;id=18536941&amp;v=20186913\">Բեռնել տեսանյութը (1)</a></p><p class=\"download-video\"><a href=\"/api/video.php?f=ERZNK_BAGHR1&amp;id=18536941&amp;v=20186913\">Բեռնել տեսանյութը (2)</a></p><hr><br><br><div class=\"pics\"><img src=\"/api/pic.php?pin=19DEGRCHRSTZ&amp;mode=video&amp;file=BAGHR_ERZNK0_00013&amp;id=18536941&amp;pic=2\">\\n\\t\\t\\t\\t<br><br>\\n\\t\\t\\t\\t<img src=\"/api/pic.php?pin=19DEGRCHRSTZ&amp;mode=video&amp;file=BAGHR_ERZNK0_00013&amp;id=18536941&amp;pic=1\"><div style=\"padding: 20px 0\">\\n\\t\\t\\t\\t<hr>\\n\\t<div></div>\\n\\t<p style=\"text-align: center\">\\n\\tՏեսախցիկի համապատասխանության վկայագիր` STP-2011-00455, Տեղակայման վայրը` ք. Երևան, Վ. Համբարձումյան / Երզնկյան / Բաղրամյան խաչմերուկի հատված\\n\\t</p></div></div></div></div>\\n\\t<div class=\"back-block text-center\">\\n\\t\\t<a class=\"result-back-btn fs16\" href=\"https://offense.roadpolice.am/violation\">Վերադառնալ</a>\\n\\t</div>\\n</div>\\n\\n</main>\\n\\n<script type=\"text/javascript\">\\n\\tvar _gaq = _gaq || [];\\n\\t_gaq.push([\\'_setAccount\\', \\'UA-2363425-37\\']);\\n\\t_gaq.push([\\'_trackPageview\\']);\\n\\n\\t(function() {\\n\\t\\tvar ga = document.createElement(\\'script\\'); ga.type = \\'text/javascript\\'; ga.async = true;\\n\\t\\tga.src = (\\'https:\\' == document.location.protocol ? \\'https://ssl\\' : \\'http://www\\') + \\'.google-analytics.com/ga.js\\';\\n\\t\\tvar s = document.getElementsByTagName(\\'script\\')[0]; s.parentNode.insertBefore(ga, s);\\n\\t})();\\n</script>\\n\\n\\n</body></html>'"
      ]
     },
     "execution_count": 54,
     "metadata": {},
     "output_type": "execute_result"
    }
   ],
   "source": [
    "page #so the page info is scraped dully"
   ]
  },
  {
   "cell_type": "code",
   "execution_count": 55,
   "metadata": {
    "colab": {},
    "colab_type": "code",
    "id": "Ps1SHofrGX3A",
    "outputId": "2bc4978e-72d6-41ca-ff03-3428dc86fbce"
   },
   "outputs": [
    {
     "data": {
      "text/plain": [
       "<200 https://offense.roadpolice.am/violation>"
      ]
     },
     "execution_count": 55,
     "metadata": {},
     "output_type": "execute_result"
    }
   ],
   "source": [
    "TextResponse(url=url_p,body=page,encoding=\"utf-8\")"
   ]
  },
  {
   "cell_type": "markdown",
   "metadata": {
    "colab_type": "text",
    "id": "Ww1ei4vtGX3D"
   },
   "source": [
    "# quotes.toscrape.com/scroll"
   ]
  },
  {
   "cell_type": "code",
   "execution_count": 57,
   "metadata": {
    "colab": {},
    "colab_type": "code",
    "id": "up_h4tOHGX3E",
    "outputId": "e7fa59de-233d-4d16-82ca-63539bef81e5"
   },
   "outputs": [
    {
     "data": {
      "text/plain": [
       "5897"
      ]
     },
     "execution_count": 57,
     "metadata": {},
     "output_type": "execute_result"
    }
   ],
   "source": [
    "url = \"http://quotes.toscrape.com/scroll\"\n",
    "\n",
    "browser = webdriver.Chrome('/home/arshak/Desktop/Scrapping/chromedriver')\n",
    "\n",
    "browser.get(url)\n",
    "\n",
    "len(browser.page_source)"
   ]
  },
  {
   "cell_type": "code",
   "execution_count": 66,
   "metadata": {
    "colab": {},
    "colab_type": "code",
    "id": "Fz0ewNt2GX3G"
   },
   "outputs": [],
   "source": [
    "some_element = browser.find_element_by_tag_name(\"html\")\n",
    "\n",
    "some_element.send_keys(Keys.END)##scrolling down by sending \"END key\""
   ]
  },
  {
   "cell_type": "code",
   "execution_count": 68,
   "metadata": {
    "colab": {},
    "colab_type": "code",
    "id": "yN2GQ90AGX3I",
    "outputId": "c1298d4c-32b5-43f4-fffb-9b12b31722ea"
   },
   "outputs": [
    {
     "data": {
      "text/plain": [
       "10874"
      ]
     },
     "execution_count": 68,
     "metadata": {},
     "output_type": "execute_result"
    }
   ],
   "source": [
    "len(browser.page_source)## as you see now we have more content\n"
   ]
  },
  {
   "cell_type": "code",
   "execution_count": 69,
   "metadata": {
    "colab": {},
    "colab_type": "code",
    "id": "WmQmh07tGX3K"
   },
   "outputs": [],
   "source": [
    "browser.close()"
   ]
  },
  {
   "cell_type": "markdown",
   "metadata": {
    "colab_type": "text",
    "id": "ylGuE3lgGX3M"
   },
   "source": [
    "while loop will be executed untill no more content is added to page source, to check it we use len function"
   ]
  },
  {
   "cell_type": "code",
   "execution_count": 70,
   "metadata": {
    "colab": {},
    "colab_type": "code",
    "id": "eXkhoopFGX3N"
   },
   "outputs": [
    {
     "name": "stdout",
     "output_type": "stream",
     "text": [
      "5897\n",
      "13886\n",
      "13886\n",
      "16645\n",
      "16645\n",
      "19385\n",
      "19385\n",
      "22318\n",
      "22318\n",
      "25834\n",
      "25834\n",
      "29103\n",
      "29103\n",
      "32564\n",
      "32564\n",
      "35326\n",
      "35326\n",
      "35326\n"
     ]
    }
   ],
   "source": [
    "browser = webdriver.Chrome('/home/arshak/Desktop/Scrapping/chromedriver')\n",
    "browser.get(url)\n",
    "while True:\n",
    "    old_length = len(browser.page_source)\n",
    "    print(old_length)\n",
    "    some_element = browser.find_element_by_tag_name(\"html\")\n",
    "    some_element.send_keys(Keys.END)\n",
    "    time.sleep(2)\n",
    "    new_length = len(browser.page_source)\n",
    "    print(new_length)\n",
    "    if new_length==old_length:\n",
    "        break"
   ]
  },
  {
   "cell_type": "code",
   "execution_count": 71,
   "metadata": {
    "colab": {},
    "colab_type": "code",
    "id": "iG2b1ja3GX3P"
   },
   "outputs": [],
   "source": [
    "browser.close()"
   ]
  },
  {
   "cell_type": "markdown",
   "metadata": {
    "colab_type": "text",
    "id": "X2YePlHsGX3R"
   },
   "source": [
    "## CheatSheet - *sourced from the \"Automate boring staff with Python\" book, chapter 11*\n",
    "\n",
    "\n",
    "### Table 1: Selenium’s WebDriver Methods for Finding Elements\n",
    "\n",
    "<table summary=\"Selenium’s WebDriver Methods for Finding Elements\" class=\"calibre9\">\n",
    "<colgroup class=\"calibre10\">\n",
    "<col class=\"calibre11\">\n",
    "<col class=\"calibre11\">\n",
    "</colgroup>\n",
    "<thead class=\"calibre12\">\n",
    "<tr class=\"calibre13\">\n",
    "<th valign=\"top\" class=\"calibre14\">\n",
    "<p class=\"calibre4\"><a id=\"calibre_link-305\" class=\"calibre1\"></a><a id=\"calibre_link-323\" class=\"calibre1\"></a><a id=\"calibre_link-385\" class=\"calibre1\"></a><a id=\"calibre_link-735\" class=\"calibre1\"></a><a id=\"calibre_link-902\" class=\"calibre1\"></a><a id=\"calibre_link-903\" class=\"calibre1\"></a><a id=\"calibre_link-906\" class=\"calibre1\"></a><a id=\"calibre_link-1016\" class=\"calibre1\"></a><a id=\"calibre_link-1551\" class=\"calibre1\"></a><a id=\"calibre_link-1693\" class=\"calibre1\"></a>Method name</p>\n",
    "</th>\n",
    "<th valign=\"top\" class=\"calibre15\">\n",
    "<p class=\"calibre4\">WebElement object/list returned</p>\n",
    "</th>\n",
    "</tr>\n",
    "</thead>\n",
    "<tbody class=\"calibre16\">\n",
    "<tr class=\"calibre13\">\n",
    "<td valign=\"top\" class=\"calibre17\"><a id=\"calibre_link-2988\" class=\"calibre1\"></a>\n",
    "<pre class=\"programlisting2\">browser.find_element_by_class_name(<span class=\"calibre1\"><em class=\"literal3\">name</em></span>)\n",
    "browser.find_elements_by_class_name(<span class=\"calibre1\"><em class=\"literal3\">name</em></span>)</pre>\n",
    "</td>\n",
    "<td valign=\"top\" class=\"calibre18\">\n",
    "<p class=\"calibre4\">Elements that use the CSS class <span class=\"calibre1\"><em class=\"calibre5\"><code class=\"literal4\">name</code></em></span></p>\n",
    "</td>\n",
    "</tr>\n",
    "<tr class=\"calibre19\">\n",
    "<td valign=\"top\" class=\"calibre17\"><a id=\"calibre_link-2989\" class=\"calibre1\"></a>\n",
    "<pre class=\"programlisting2\">browser.find_element_by_css_selector(<span class=\"calibre1\"><em class=\"literal3\">selector</em></span>)\n",
    "browser.find_elements_by_css_selector(<span class=\"calibre1\"><em class=\"literal3\">selector</em></span>)</pre>\n",
    "</td>\n",
    "<td valign=\"top\" class=\"calibre18\">\n",
    "<p class=\"calibre4\">Elements that match the CSS <span class=\"calibre1\"><em class=\"calibre5\"><code class=\"literal4\">selector</code></em></span></p>\n",
    "</td>\n",
    "</tr>\n",
    "<tr class=\"calibre13\">\n",
    "<td valign=\"top\" class=\"calibre17\"><a id=\"calibre_link-2990\" class=\"calibre1\"></a>\n",
    "<pre class=\"programlisting2\">browser.find_element_by_id(<span class=\"calibre1\"><em class=\"literal3\">id</em></span>)\n",
    "browser.find_elements_by_id(<span class=\"calibre1\"><em class=\"literal3\">id</em></span>)</pre>\n",
    "</td>\n",
    "<td valign=\"top\" class=\"calibre18\">\n",
    "<p class=\"calibre4\">Elements with a matching <span class=\"calibre1\"><em class=\"calibre5\"><code class=\"literal4\">id</code></em></span> attribute value</p>\n",
    "</td>\n",
    "</tr>\n",
    "<tr class=\"calibre19\">\n",
    "<td valign=\"top\" class=\"calibre17\"><a id=\"calibre_link-2991\" class=\"calibre1\"></a>\n",
    "<pre class=\"programlisting2\">browser.find_element_by_link_text(<span class=\"calibre1\"><em class=\"literal3\">text</em></span>)\n",
    "browser.find_elements_by_link_text(<span class=\"calibre1\"><em class=\"literal3\">text</em></span>)</pre>\n",
    "</td>\n",
    "<td valign=\"top\" class=\"calibre18\">\n",
    "<p class=\"calibre4\"><code class=\"literal2\">&lt;a&gt;</code> elements that completely match the <span class=\"calibre1\"><em class=\"calibre5\"><code class=\"literal4\">text</code></em></span> provided</p>\n",
    "</td>\n",
    "</tr>\n",
    "<tr class=\"calibre13\">\n",
    "<td valign=\"top\" class=\"calibre17\"><a id=\"calibre_link-2992\" class=\"calibre1\"></a>\n",
    "<pre class=\"programlisting2\">browser.find_element_by_partial_link_text(<span class=\"calibre1\"><em class=\"literal3\">text</em></span>)\n",
    "browser.find_elements_by_partial_link_text(<span class=\"calibre1\"><em class=\"literal3\">text</em></span>)</pre>\n",
    "</td>\n",
    "<td valign=\"top\" class=\"calibre18\">\n",
    "<p class=\"calibre4\"><code class=\"literal2\">&lt;a&gt;</code> elements that contain the <span class=\"calibre1\"><em class=\"calibre5\"><code class=\"literal4\">text</code></em></span> provided</p>\n",
    "</td>\n",
    "</tr>\n",
    "<tr class=\"calibre19\">\n",
    "<td valign=\"top\" class=\"calibre17\"><a id=\"calibre_link-2993\" class=\"calibre1\"></a>\n",
    "<pre class=\"programlisting2\">browser.find_element_by_name(<span class=\"calibre1\"><em class=\"literal3\">name</em></span>)\n",
    "browser.find_elements_by_name(<span class=\"calibre1\"><em class=\"literal3\">name</em></span>)</pre>\n",
    "</td>\n",
    "<td valign=\"top\" class=\"calibre18\">\n",
    "<p class=\"calibre4\">Elements with a matching <span class=\"calibre1\"><em class=\"calibre5\"><code class=\"literal4\">name</code></em></span> attribute value</p>\n",
    "</td>\n",
    "</tr>\n",
    "<tr class=\"calibre13\">\n",
    "<td valign=\"top\" class=\"calibre20\"><a id=\"calibre_link-2994\" class=\"calibre1\"></a>\n",
    "<pre class=\"programlisting2\">browser.find_element_by_tag_name(<span class=\"calibre1\"><em class=\"literal3\">name</em></span>)\n",
    "browser.find_elements_by_tag_name(<span class=\"calibre1\"><em class=\"literal3\">name</em></span>)</pre>\n",
    "</td>\n",
    "<td valign=\"top\" class=\"calibre21\">\n",
    "<p class=\"calibre4\">Elements with a matching tag <span class=\"calibre1\"><em class=\"calibre5\"><code class=\"literal4\">name</code></em></span> (case insensitive; an <code class=\"literal2\">&lt;a&gt;</code> element is matched by <code class=\"literal2\">'a'</code> and <code class=\"literal2\">'A'</code>)</p>\n",
    "</td>\n",
    "</tr>\n",
    "</tbody>\n",
    "</table>\n",
    "\n",
    "### Table 2: WebElement Attributes and Methods\n",
    "\n",
    "<table summary=\"WebElement Attributes and Methods\" class=\"calibre9\">\n",
    "<colgroup class=\"calibre10\">\n",
    "<col class=\"calibre11\">\n",
    "<col class=\"calibre11\">\n",
    "</colgroup>\n",
    "<thead class=\"calibre12\">\n",
    "<tr class=\"calibre13\">\n",
    "<th valign=\"top\" class=\"calibre14\">\n",
    "<p class=\"calibre4\">Attribute or method</p>\n",
    "</th>\n",
    "<th valign=\"top\" class=\"calibre15\">\n",
    "<p class=\"calibre4\">Description</p>\n",
    "</th>\n",
    "</tr>\n",
    "</thead>\n",
    "<tbody class=\"calibre16\">\n",
    "<tr class=\"calibre13\">\n",
    "<td valign=\"top\" class=\"calibre17\">\n",
    "<p class=\"calibre4\"><code class=\"literal2\">tag_name</code></p>\n",
    "</td>\n",
    "<td valign=\"top\" class=\"calibre18\">\n",
    "<p class=\"calibre4\">The tag name, such as <code class=\"literal2\">'a'</code> for an <code class=\"literal2\">&lt;a&gt;</code> element</p>\n",
    "</td>\n",
    "</tr>\n",
    "<tr class=\"calibre19\">\n",
    "<td valign=\"top\" class=\"calibre17\">\n",
    "<p class=\"calibre4\"><code class=\"literal2\">get_attribute(</code><span class=\"calibre1\"><em class=\"calibre5\"><code class=\"literal4\">name</code></em></span><code class=\"literal2\">)</code></p>\n",
    "</td>\n",
    "<td valign=\"top\" class=\"calibre18\">\n",
    "<p class=\"calibre4\">The value for the element’s <code class=\"literal2\">name</code> attribute</p>\n",
    "</td>\n",
    "</tr>\n",
    "<tr class=\"calibre13\">\n",
    "<td valign=\"top\" class=\"calibre17\">\n",
    "<p class=\"calibre4\"><code class=\"literal2\">text</code></p>\n",
    "</td>\n",
    "<td valign=\"top\" class=\"calibre18\">\n",
    "<p class=\"calibre4\">The text within the element, such as <code class=\"literal2\">'hello'</code> in <code class=\"literal2\">&lt;span&gt;hello&lt;/span&gt;</code></p>\n",
    "</td>\n",
    "</tr>\n",
    "<tr class=\"calibre19\">\n",
    "<td valign=\"top\" class=\"calibre17\">\n",
    "<p class=\"calibre4\"><code class=\"literal2\">clear()</code></p>\n",
    "</td>\n",
    "<td valign=\"top\" class=\"calibre18\">\n",
    "<p class=\"calibre4\">For text field or text area elements, clears the text typed into it</p>\n",
    "</td>\n",
    "</tr>\n",
    "<tr class=\"calibre13\">\n",
    "<td valign=\"top\" class=\"calibre17\">\n",
    "<p class=\"calibre4\"><code class=\"literal2\">is_displayed()</code></p>\n",
    "</td>\n",
    "<td valign=\"top\" class=\"calibre18\">\n",
    "<p class=\"calibre4\">Returns <code class=\"literal2\">True</code> if the element is visible; otherwise returns <code class=\"literal2\">False</code></p>\n",
    "</td>\n",
    "</tr>\n",
    "<tr class=\"calibre19\">\n",
    "<td valign=\"top\" class=\"calibre17\">\n",
    "<p class=\"calibre4\"><code class=\"literal2\">is_enabled()</code></p>\n",
    "</td>\n",
    "<td valign=\"top\" class=\"calibre18\">\n",
    "<p class=\"calibre4\">For input elements, returns <code class=\"literal2\">True</code> if the element is enabled; otherwise returns <code class=\"literal2\">False</code></p>\n",
    "</td>\n",
    "</tr>\n",
    "<tr class=\"calibre13\">\n",
    "<td valign=\"top\" class=\"calibre17\">\n",
    "<p class=\"calibre4\"><code class=\"literal2\">is_selected()</code></p>\n",
    "</td>\n",
    "<td valign=\"top\" class=\"calibre18\">\n",
    "<p class=\"calibre4\">For checkbox or radio button elements, returns <code class=\"literal2\">True</code> if the element is selected; otherwise returns <code class=\"literal2\">False</code></p>\n",
    "</td>\n",
    "</tr>\n",
    "<tr class=\"calibre19\">\n",
    "<td valign=\"top\" class=\"calibre20\">\n",
    "<p class=\"calibre4\"><code class=\"literal2\">location</code></p>\n",
    "</td>\n",
    "<td valign=\"top\" class=\"calibre21\">\n",
    "<p class=\"calibre4\">A dictionary with keys <code class=\"literal2\">'x'</code> and <code class=\"literal2\">'y'</code> for the position of the element in the page</p>\n",
    "</td>\n",
    "</tr>\n",
    "</tbody>\n",
    "</table>\n",
    "\n",
    "### Table 3: Commonly Used Variables in the selenium.webdriver.common.keys Module\n",
    "\n",
    "<table summary=\"Commonly Used Variables in the selenium.webdriver.common.keys Module\" class=\"calibre9\">\n",
    "<colgroup class=\"calibre10\">\n",
    "<col class=\"calibre11\">\n",
    "<col class=\"calibre11\">\n",
    "</colgroup>\n",
    "<thead class=\"calibre12\">\n",
    "<tr class=\"calibre13\">\n",
    "<th valign=\"top\" class=\"calibre14\">\n",
    "<p class=\"calibre4\">Attributes</p>\n",
    "</th>\n",
    "<th valign=\"top\" class=\"calibre15\">\n",
    "<p class=\"calibre4\">Meanings</p>\n",
    "</th>\n",
    "</tr>\n",
    "</thead>\n",
    "<tbody class=\"calibre16\">\n",
    "<tr class=\"calibre13\">\n",
    "<td valign=\"top\" class=\"calibre17\">\n",
    "<p class=\"calibre4\"><code class=\"literal2\">Keys.DOWN</code>, <code class=\"literal2\">Keys.UP</code>, <code class=\"literal2\">Keys.LEFT</code>, <code class=\"literal2\">Keys.RIGHT</code></p>\n",
    "</td>\n",
    "<td valign=\"top\" class=\"calibre18\">\n",
    "<p class=\"calibre4\">The keyboard arrow keys</p>\n",
    "</td>\n",
    "</tr>\n",
    "<tr class=\"calibre19\">\n",
    "<td valign=\"top\" class=\"calibre17\">\n",
    "<p class=\"calibre4\"><code class=\"literal2\">Keys.ENTER</code>, <code class=\"literal2\">Keys.RETURN</code></p>\n",
    "</td>\n",
    "<td valign=\"top\" class=\"calibre18\">\n",
    "<p class=\"calibre4\">The <span class=\"smaller\">ENTER</span> and <span class=\"smaller\">RETURN</span> keys</p>\n",
    "</td>\n",
    "</tr>\n",
    "<tr class=\"calibre13\">\n",
    "<td valign=\"top\" class=\"calibre17\">\n",
    "<p class=\"calibre4\"><code class=\"literal2\">Keys.HOME</code>, <code class=\"literal2\">Keys.END</code>, <code class=\"literal2\">Keys.PAGE_DOWN</code>, <code class=\"literal2\">Keys.PAGE_UP</code></p>\n",
    "</td>\n",
    "<td valign=\"top\" class=\"calibre18\">\n",
    "<p class=\"calibre4\">The <code class=\"literal2\">home</code>, <code class=\"literal2\">end</code>, <code class=\"literal2\">pagedown</code>, and <code class=\"literal2\">pageup</code> keys</p>\n",
    "</td>\n",
    "</tr>\n",
    "<tr class=\"calibre19\">\n",
    "<td valign=\"top\" class=\"calibre17\">\n",
    "<p class=\"calibre4\"><code class=\"literal2\">Keys.ESCAPE</code>, <code class=\"literal2\">Keys.BACK_SPACE</code>, <code class=\"literal2\">Keys.DELETE</code></p>\n",
    "</td>\n",
    "<td valign=\"top\" class=\"calibre18\">\n",
    "<p class=\"calibre4\">The <span class=\"smaller\">ESC</span>, <span class=\"smaller\">BACKSPACE</span>, and <span class=\"smaller\">DELETE</span> keys</p>\n",
    "</td>\n",
    "</tr>\n",
    "<tr class=\"calibre13\">\n",
    "<td valign=\"top\" class=\"calibre17\">\n",
    "<p class=\"calibre4\"><code class=\"literal2\">Keys.F1</code>, <code class=\"literal2\">Keys.F2</code>,..., <code class=\"literal2\">Keys.F12</code></p>\n",
    "</td>\n",
    "<td valign=\"top\" class=\"calibre18\">\n",
    "<p class=\"calibre4\">The F1 to F12 keys at the top of the keyboard</p>\n",
    "</td>\n",
    "</tr>\n",
    "<tr class=\"calibre19\">\n",
    "<td valign=\"top\" class=\"calibre20\">\n",
    "<p class=\"calibre4\"><code class=\"literal2\">Keys.TAB</code></p>\n",
    "</td>\n",
    "<td valign=\"top\" class=\"calibre21\">\n",
    "<p class=\"calibre4\">The <span class=\"smaller\">TAB</span> key</p>\n",
    "</td>\n",
    "</tr>\n",
    "</tbody>\n",
    "</table>\n",
    "\n",
    "\n",
    "### Table 4: Methods for Clicking Browser Buttons\n",
    "\n",
    "|Method name|Description|\n",
    "|-|-|\n",
    "|browser.back()| Clicks the Back button.\n",
    "|browser.forward()| Clicks the Forward button.\n",
    "|browser.refresh()| Clicks the Refresh/Reload button.\n",
    "|browser.quit()| Clicks the Close Window button."
   ]
  }
 ],
 "metadata": {
  "colab": {
   "name": "intro_to_Selenium.ipynb",
   "provenance": []
  },
  "kernelspec": {
   "display_name": "Python 3",
   "language": "python",
   "name": "python3"
  },
  "language_info": {
   "codemirror_mode": {
    "name": "ipython",
    "version": 3
   },
   "file_extension": ".py",
   "mimetype": "text/x-python",
   "name": "python",
   "nbconvert_exporter": "python",
   "pygments_lexer": "ipython3",
   "version": "3.6.8"
  }
 },
 "nbformat": 4,
 "nbformat_minor": 1
}
