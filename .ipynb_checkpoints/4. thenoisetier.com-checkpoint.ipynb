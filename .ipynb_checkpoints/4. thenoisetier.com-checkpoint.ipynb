{
 "cells": [
  {
   "cell_type": "code",
   "execution_count": 1,
   "metadata": {},
   "outputs": [],
   "source": [
    "import requests\n",
    "from selenium import webdriver\n",
    "from scrapy.http import TextResponse\n",
    "import time\n",
    "import pandas as pd"
   ]
  },
  {
   "cell_type": "code",
   "execution_count": 45,
   "metadata": {},
   "outputs": [
    {
     "name": "stdout",
     "output_type": "stream",
     "text": [
      "[<Selector xpath=\"descendant-or-self::ul[@class = 'paging']/li/a/@href\" data='/blog/tag/BEAUTY/page/6'>, <Selector xpath=\"descendant-or-self::ul[@class = 'paging']/li/a/@href\" data='/blog/tag/BEAUTY/page/1'>, <Selector xpath=\"descendant-or-self::ul[@class = 'paging']/li/a/@href\" data='/blog/tag/BEAUTY/page/2'>, <Selector xpath=\"descendant-or-self::ul[@class = 'paging']/li/a/@href\" data='/blog/tag/BEAUTY/page/3'>, <Selector xpath=\"descendant-or-self::ul[@class = 'paging']/li/a/@href\" data='/blog/tag/BEAUTY/page/4'>, <Selector xpath=\"descendant-or-self::ul[@class = 'paging']/li/a/@href\" data='/blog/tag/BEAUTY/page/5'>, <Selector xpath=\"descendant-or-self::ul[@class = 'paging']/li/a/@href\" data='/blog/tag/BEAUTY/page/6'>, <Selector xpath=\"descendant-or-self::ul[@class = 'paging']/li/a/@href\" data='/blog/tag/BEAUTY/page/7'>, <Selector xpath=\"descendant-or-self::ul[@class = 'paging']/li/a/@href\" data='/blog/tag/BEAUTY/page/6'>, <Selector xpath=\"descendant-or-self::ul[@class = 'paging']/li/a/@href\" data='/blog/tag/BEAUTY/page/1'>, <Selector xpath=\"descendant-or-self::ul[@class = 'paging']/li/a/@href\" data='/blog/tag/BEAUTY/page/2'>, <Selector xpath=\"descendant-or-self::ul[@class = 'paging']/li/a/@href\" data='/blog/tag/BEAUTY/page/3'>, <Selector xpath=\"descendant-or-self::ul[@class = 'paging']/li/a/@href\" data='/blog/tag/BEAUTY/page/4'>, <Selector xpath=\"descendant-or-self::ul[@class = 'paging']/li/a/@href\" data='/blog/tag/BEAUTY/page/5'>, <Selector xpath=\"descendant-or-self::ul[@class = 'paging']/li/a/@href\" data='/blog/tag/BEAUTY/page/6'>, <Selector xpath=\"descendant-or-self::ul[@class = 'paging']/li/a/@href\" data='/blog/tag/BEAUTY/page/7'>]\n"
     ]
    }
   ],
   "source": [
    "url = 'http://thenoisetier.com/blog/tag/BEAUTY/page/7'\n",
    "response = requests.get(url)\n",
    "page= TextResponse(url=response.url,\n",
    "                  body=response.content,\n",
    "                  encoding='utf-8')\n",
    "\n",
    "likes = page.css(\"ul[class='paging']>li>a::attr(href)\")\n",
    "print(likes)"
   ]
  },
  {
   "cell_type": "code",
   "execution_count": 58,
   "metadata": {},
   "outputs": [
    {
     "name": "stdout",
     "output_type": "stream",
     "text": [
      "19\n",
      "   Like                                              Topic  \\\n",
      "0    16  Скидки до 50% в честь Хэллоуина: виш-лист реда...   \n",
      "1    18  Спасаем кожу рук от холодной погоды: 4 крема д...   \n",
      "2    23          5 идеальных ароматов для первого свидания   \n",
      "3    27  Важно знать: значение маркировок на косметичес...   \n",
      "4    39                Выбор редактора: лучшее за сентябрь   \n",
      "\n",
      "                                         Description  \\\n",
      "0  Ежегодно в преддверии Хэллоуина во многих инте...   \n",
      "1  Увлажнение кожи рук — это очень важно, особенн...   \n",
      "2  О этот волнующий момент первого свидания! Хоче...   \n",
      "3  Чаще всего, приобретая косметические продукты,...   \n",
      "4  Сентябрь – это маленький декабрь. Я каждый год...   \n",
      "\n",
      "                                                Link  \n",
      "0  http://thenoisetier.com/blog/halloween-sale-th...  \n",
      "1  http://thenoisetier.com/blog/best-hand-creams-...  \n",
      "2  http://thenoisetier.com/blog/5-perfect-fragran...  \n",
      "3  http://thenoisetier.com/blog/symbols-meaning-o...  \n",
      "4  http://thenoisetier.com/blog/editors-choice-se...  \n"
     ]
    }
   ],
   "source": [
    "tags = ['BEAUTY', 'COFFEE', '%D0%A0%D0%95%D0%A1%D0%A2%D0%9E%D0%A0%D0%90%D0%9D%D0%AB', 'BAR', '%D0%A0%D0%95%D0%A6%D0%95%D0%9F%D0%A2%D0%AB',\n",
    "       'PHOTO%20TUTORIALS', 'DIGITAL', 'WALLPAPER', 'PHOTO', 'MOSCOW', 'TRAVEL', 'HOTELS', 'MOVIES', 'BOOK', 'MUSIC', 'VIDEO',\n",
    "       'INSPIRATION', 'shopping', 'ANASTASIA%20VOLKOVA']\n",
    "names = ['BEAUTY', 'COFFEE', 'Рестораны', 'Вино и Коктели', 'Рецепты', \n",
    "         'Обработка Фотографии', 'Социальные Сети', 'Обои + Календарь', 'Съемки', 'Москва', 'Направления', 'Отели',\n",
    "        'Фильмы и сериалы', 'Книги', 'Плейлисты', 'Видео', 'Inspiration', 'Шопинг', 'Anastasia Volkova']\n",
    "\n",
    "url = 'http://thenoisetier.com/blog/tag/{}/page/'\n",
    "\n",
    "def clear_str(string):\n",
    "    return string.replace(u'\\xa0', u' ')\n",
    "\n",
    "\n",
    "def get_info(url):\n",
    "    response = requests.get(url)\n",
    "    page= TextResponse(url=response.url,\n",
    "                      body=response.content,\n",
    "                      encoding='utf-8')\n",
    "\n",
    "    likes = map(int, page.css(\"a[class='like']>span::text\").extract())\n",
    "    topics = page.css(\"div[class='blog_title-date']>a>h2::text\").extract()\n",
    "    description = [clear_str(des) for des in page.css(\"div[class='bgi_textWrap']>span>span::text\").extract()]\n",
    "#     paths = [f'=HYPERLINK(\"{link}\", \"{link}\")' for link in page.css(\"div[class='bgi_fields readMore']>a::attr(href)\").extract()]\n",
    "    paths = page.css(\"div[class='bgi_fields readMore']>a::attr(href)\").extract()\n",
    "    return pd.DataFrame(data=zip(likes, topics, description, paths), columns=['Like', 'Topic', 'Description', 'Link'])\n",
    "\n",
    "\n",
    "def from_n_pages(url, n_pages=10):\n",
    "    urls = [url + str(n_page) for n_page in range(1, n_pages+1)]\n",
    "    return pd.concat([get_info(url_new) for url_new in urls])\n",
    "\n",
    "def from_n_links(url, tags, n_pages):\n",
    "    urls = [url.format(tag_name) for tag_name in tags]\n",
    "    return [from_n_pages(url=url, n_pages=n_pages) for url in urls]\n",
    "\n",
    "df = from_n_links(url=url, tags=tags, n_pages=10)\n",
    "print(len(df))\n",
    "print(df[0].head())"
   ]
  },
  {
   "cell_type": "code",
   "execution_count": 59,
   "metadata": {},
   "outputs": [],
   "source": [
    "final_df = [dataframe.sort_values('Like', ascending=False).reset_index(drop=True).drop_duplicates() for dataframe in df]"
   ]
  },
  {
   "cell_type": "code",
   "execution_count": 60,
   "metadata": {},
   "outputs": [],
   "source": [
    "writer = pd.ExcelWriter('Thenoisetier1.xlsx', engine='xlsxwriter')\n",
    "\n",
    "# Write each dataframe to a different worksheet.\n",
    "for name, dataframe in zip(names, final_df):\n",
    "    dataframe.to_excel(writer, sheet_name=name, index=False)\n",
    "\n",
    "# Close the Pandas Excel writer and output the Excel file.\n",
    "writer.save()"
   ]
  },
  {
   "cell_type": "code",
   "execution_count": null,
   "metadata": {},
   "outputs": [],
   "source": []
  }
 ],
 "metadata": {
  "kernelspec": {
   "display_name": "Python 3",
   "language": "python",
   "name": "python3"
  },
  "language_info": {
   "codemirror_mode": {
    "name": "ipython",
    "version": 3
   },
   "file_extension": ".py",
   "mimetype": "text/x-python",
   "name": "python",
   "nbconvert_exporter": "python",
   "pygments_lexer": "ipython3",
   "version": "3.6.8"
  }
 },
 "nbformat": 4,
 "nbformat_minor": 2
}
