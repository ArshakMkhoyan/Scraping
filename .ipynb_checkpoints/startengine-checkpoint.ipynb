{
 "cells": [
  {
   "cell_type": "code",
   "execution_count": 1,
   "metadata": {},
   "outputs": [],
   "source": [
    "import requests\n",
    "from selenium import webdriver\n",
    "from scrapy.http import TextResponse\n",
    "import time\n",
    "import pandas as pd\n",
    "from collections import defaultdict"
   ]
  },
  {
   "cell_type": "code",
   "execution_count": 5,
   "metadata": {},
   "outputs": [],
   "source": [
    "# options = webdriver.ChromeOptions()\n",
    "# options.add_argument('headless')\n",
    "# browser = webdriver.Chrome('./chromedriver', options=options)\n",
    "browser = webdriver.Chrome('./chromedriver')\n",
    "browser.get('https://www.startengine.com/trella?utm_source=startengine&utm_medium=main_website&utm_campaign=closing_soon3')"
   ]
  },
  {
   "cell_type": "code",
   "execution_count": 15,
   "metadata": {},
   "outputs": [
    {
     "data": {
      "text/plain": [
       "'Overview Team Terms Updates Comments Share'"
      ]
     },
     "execution_count": 15,
     "metadata": {},
     "output_type": "execute_result"
    }
   ],
   "source": [
    "browser.find_element_by_xpath('//*[@id=\"the-profile\"]/div[4]').text"
   ]
  },
  {
   "cell_type": "code",
   "execution_count": 21,
   "metadata": {},
   "outputs": [
    {
     "name": "stdout",
     "output_type": "stream",
     "text": [
      "Overview\n",
      "Team\n",
      "Terms\n",
      "Updates\n",
      "Comments\n",
      "Comments\n"
     ]
    }
   ],
   "source": [
    "list_of_namings = browser.find_elements_by_xpath('//*[@id=\"the-profile\"]/div[4]/div[1]/a')\n",
    "for i in list_of_namings:\n",
    "    print(i.text)\n",
    "    if 'Comments' in i.text:\n",
    "        i.click()\n",
    "        break"
   ]
  },
  {
   "cell_type": "code",
   "execution_count": 33,
   "metadata": {},
   "outputs": [
    {
     "name": "stdout",
     "output_type": "stream",
     "text": [
      "SHOW MORE\n",
      "SHOW MORE\n",
      "SHOW MORE UPDATES\n",
      "\n"
     ]
    }
   ],
   "source": [
    "list_of_show_more = browser.find_elements_by_class_name('show-all')\n",
    "for i in list_of_show_more:\n",
    "    print(i.text)\n",
    "    if 'comments' in i.text.lower():\n",
    "        i.click()\n",
    "        print('clicked')\n",
    "        break\n"
   ]
  },
  {
   "cell_type": "code",
   "execution_count": 41,
   "metadata": {},
   "outputs": [],
   "source": [
    "i = browser.find_elements_by_xpath('//*[@id=\"profile-comments\"]/div/div/ul/li')[0]"
   ]
  },
  {
   "cell_type": "code",
   "execution_count": 46,
   "metadata": {},
   "outputs": [
    {
     "name": "stdout",
     "output_type": "stream",
     "text": [
      "John mensah\n",
      "2 INVESTMENTS\n",
      "16 days ago\n"
     ]
    }
   ],
   "source": [
    "user_data = i.find_element_by_class_name('user-info')\n",
    "name = user_data.find_element_by_class_name('user-name').text\n",
    "investments = user_data.find_element_by_class_name('tag').text\n",
    "days_ago = user_data.find_element_by_class_name('comment-date').text\n",
    "print(name, investments, days_ago, sep='\\n')"
   ]
  },
  {
   "cell_type": "code",
   "execution_count": 47,
   "metadata": {},
   "outputs": [
    {
     "name": "stdout",
     "output_type": "stream",
     "text": [
      "So I'd you invest do you get stock?\n"
     ]
    }
   ],
   "source": [
    "user_question = i.find_element_by_class_name('clearfix').text\n",
    "print(user_question)"
   ]
  },
  {
   "cell_type": "code",
   "execution_count": 51,
   "metadata": {},
   "outputs": [
    {
     "name": "stdout",
     "output_type": "stream",
     "text": [
      "Hello John, thanks for checking out our page. We're offering convertible notes which transfer into shares (Class B units). Please see below and our terms section for more information:\n",
      "\n",
      "A convertible note offers you the right to receive Class B Units in Trella Technologies LLC. The amount of Class B Units you will receive in the future will be determined at the next equity round in which the Company raises at least $4,070,000.00 in a qualified equity financing. The highest conversion price per security is set based on a $30,000,000.00 Valuation Cap or if less, then you will receive a 20.0% discount on the price the new investors are paying. You also receive 10.0% interest per year added to your investment. When the maturity date is reached, if the note has not converted then you are entitled to receive Class B Units equal to your investment and interest back at a price per security determined by dividing the Valuation Cap by the aggregate number of outstanding equity securities of the Company as of immediately prior (on a fully diluted basis).\n"
     ]
    }
   ],
   "source": [
    "reply = i.find_element_by_class_name('margin-bottom-standard')\n",
    "reply_body = reply.find_element_by_class_name('comment-body').text\n",
    "print(reply_body)"
   ]
  },
  {
   "cell_type": "code",
   "execution_count": null,
   "metadata": {},
   "outputs": [],
   "source": []
  }
 ],
 "metadata": {
  "kernelspec": {
   "display_name": "Python 3",
   "language": "python",
   "name": "python3"
  },
  "language_info": {
   "codemirror_mode": {
    "name": "ipython",
    "version": 3
   },
   "file_extension": ".py",
   "mimetype": "text/x-python",
   "name": "python",
   "nbconvert_exporter": "python",
   "pygments_lexer": "ipython3",
   "version": "3.6.8"
  }
 },
 "nbformat": 4,
 "nbformat_minor": 2
}
