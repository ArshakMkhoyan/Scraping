{
 "cells": [
  {
   "cell_type": "code",
   "execution_count": 5,
   "metadata": {},
   "outputs": [],
   "source": [
    "import requests\n",
    "import pandas as pd\n",
    "from scrapy.http import TextResponse\n",
    "import time\n",
    "import numpy as np # delete"
   ]
  },
  {
   "cell_type": "code",
   "execution_count": 69,
   "metadata": {},
   "outputs": [],
   "source": [
    "url = 'http://books.toscrape.com/'\n",
    "response = requests.get(url)"
   ]
  },
  {
   "cell_type": "code",
   "execution_count": 70,
   "metadata": {},
   "outputs": [
    {
     "name": "stdout",
     "output_type": "stream",
     "text": [
      "['__attrs__', '__bool__', '__class__', '__delattr__', '__dict__', '__dir__', '__doc__', '__enter__', '__eq__', '__exit__', '__format__', '__ge__', '__getattribute__', '__getstate__', '__gt__', '__hash__', '__init__', '__init_subclass__', '__iter__', '__le__', '__lt__', '__module__', '__ne__', '__new__', '__nonzero__', '__reduce__', '__reduce_ex__', '__repr__', '__setattr__', '__setstate__', '__sizeof__', '__str__', '__subclasshook__', '__weakref__', '_content', '_content_consumed', '_next', 'apparent_encoding', 'close', 'connection', 'content', 'cookies', 'elapsed', 'encoding', 'headers', 'history', 'is_permanent_redirect', 'is_redirect', 'iter_content', 'iter_lines', 'json', 'links', 'next', 'ok', 'raise_for_status', 'raw', 'reason', 'request', 'status_code', 'text', 'url']\n",
      "http://books.toscrape.com/\n"
     ]
    }
   ],
   "source": [
    "print(dir(response))\n",
    "print(response.url)"
   ]
  },
  {
   "cell_type": "code",
   "execution_count": 71,
   "metadata": {},
   "outputs": [],
   "source": [
    "page = TextResponse(url=response.url,\n",
    "                   body=response.text,\n",
    "                   encoding='utf-8')"
   ]
  },
  {
   "cell_type": "code",
   "execution_count": 72,
   "metadata": {},
   "outputs": [],
   "source": [
    "refs = page.css('h3>a::attr(href)').extract()\n",
    "titles = page.css('h3>a::attr(title)').extract()\n",
    "prices = page.css(\"p[class='price_color']::text\").extract()"
   ]
  },
  {
   "cell_type": "code",
   "execution_count": 73,
   "metadata": {},
   "outputs": [
    {
     "data": {
      "text/plain": [
       "['catalogue/a-light-in-the-attic_1000/index.html',\n",
       " 'catalogue/tipping-the-velvet_999/index.html',\n",
       " 'catalogue/soumission_998/index.html',\n",
       " 'catalogue/sharp-objects_997/index.html',\n",
       " 'catalogue/sapiens-a-brief-history-of-humankind_996/index.html',\n",
       " 'catalogue/the-requiem-red_995/index.html',\n",
       " 'catalogue/the-dirty-little-secrets-of-getting-your-dream-job_994/index.html',\n",
       " 'catalogue/the-coming-woman-a-novel-based-on-the-life-of-the-infamous-feminist-victoria-woodhull_993/index.html',\n",
       " 'catalogue/the-boys-in-the-boat-nine-americans-and-their-epic-quest-for-gold-at-the-1936-berlin-olympics_992/index.html',\n",
       " 'catalogue/the-black-maria_991/index.html',\n",
       " 'catalogue/starving-hearts-triangular-trade-trilogy-1_990/index.html',\n",
       " 'catalogue/shakespeares-sonnets_989/index.html',\n",
       " 'catalogue/set-me-free_988/index.html',\n",
       " 'catalogue/scott-pilgrims-precious-little-life-scott-pilgrim-1_987/index.html',\n",
       " 'catalogue/rip-it-up-and-start-again_986/index.html',\n",
       " 'catalogue/our-band-could-be-your-life-scenes-from-the-american-indie-underground-1981-1991_985/index.html',\n",
       " 'catalogue/olio_984/index.html',\n",
       " 'catalogue/mesaerion-the-best-science-fiction-stories-1800-1849_983/index.html',\n",
       " 'catalogue/libertarianism-for-beginners_982/index.html',\n",
       " 'catalogue/its-only-the-himalayas_981/index.html']"
      ]
     },
     "execution_count": 73,
     "metadata": {},
     "output_type": "execute_result"
    }
   ],
   "source": [
    "refs"
   ]
  },
  {
   "cell_type": "code",
   "execution_count": 60,
   "metadata": {},
   "outputs": [],
   "source": [
    "def scrap_content(url, refs):\n",
    "    contents = []\n",
    "    for ref in refs:\n",
    "        response_desc = requests.get(url + ref)\n",
    "        page_desc = TextResponse(url=response_desc.url,\n",
    "                        body=response_desc.text,\n",
    "                        encoding='utf-8')\n",
    "        content = page_desc.css(\"article>p::text\").extract()[0]\n",
    "        contents.append(content)\n",
    "    return contents"
   ]
  },
  {
   "cell_type": "code",
   "execution_count": 91,
   "metadata": {},
   "outputs": [],
   "source": [
    "url = \"http://books.toscrape.com/catalogue/\"\n",
    "def scrap_all_data(url, n_pages=5):\n",
    "    all_titles, all_prices, all_contents = [], [], []\n",
    "    to_adds = [f'page-{page_n}.html' for page_n in range(1, n_pages+1)]\n",
    "    for n, to_add in enumerate(to_adds):\n",
    "        url_page = url + to_add\n",
    "        response = requests.get(url_page)\n",
    "        page = TextResponse(url=response.url,\n",
    "                   body=response.text,\n",
    "                   encoding='utf-8')\n",
    "        refs = page.css('h3>a::attr(href)').extract()\n",
    "        titles = page.css('h3>a::attr(title)').extract()\n",
    "        prices = page.css(\"p[class='price_color']::text\").extract()\n",
    "        contents = scrap_content(url=url, refs=refs)\n",
    "        all_titles.extend(titles)\n",
    "        all_prices.extend(prices)\n",
    "        all_contents.extend(contents)\n",
    "    return all_titles, all_prices, all_contents\n",
    "\n",
    "        \n",
    "all_info = scrap_all_data(url=url, n_pages=5)"
   ]
  },
  {
   "cell_type": "code",
   "execution_count": 97,
   "metadata": {},
   "outputs": [
    {
     "data": {
      "text/html": [
       "<div>\n",
       "<style scoped>\n",
       "    .dataframe tbody tr th:only-of-type {\n",
       "        vertical-align: middle;\n",
       "    }\n",
       "\n",
       "    .dataframe tbody tr th {\n",
       "        vertical-align: top;\n",
       "    }\n",
       "\n",
       "    .dataframe thead th {\n",
       "        text-align: right;\n",
       "    }\n",
       "</style>\n",
       "<table border=\"1\" class=\"dataframe\">\n",
       "  <thead>\n",
       "    <tr style=\"text-align: right;\">\n",
       "      <th></th>\n",
       "      <th>Title</th>\n",
       "      <th>Price</th>\n",
       "      <th>Content</th>\n",
       "    </tr>\n",
       "  </thead>\n",
       "  <tbody>\n",
       "    <tr>\n",
       "      <th>0</th>\n",
       "      <td>A Light in the Attic</td>\n",
       "      <td>Â£51.77</td>\n",
       "      <td>It's hard to imagine a world without A Light i...</td>\n",
       "    </tr>\n",
       "    <tr>\n",
       "      <th>1</th>\n",
       "      <td>Tipping the Velvet</td>\n",
       "      <td>Â£53.74</td>\n",
       "      <td>\"Erotic and absorbing...Written with starling ...</td>\n",
       "    </tr>\n",
       "    <tr>\n",
       "      <th>2</th>\n",
       "      <td>Soumission</td>\n",
       "      <td>Â£50.10</td>\n",
       "      <td>Dans une France assez proche de la nÃ´tre, un ...</td>\n",
       "    </tr>\n",
       "    <tr>\n",
       "      <th>3</th>\n",
       "      <td>Sharp Objects</td>\n",
       "      <td>Â£47.82</td>\n",
       "      <td>WICKED above her hipbone, GIRL across her hear...</td>\n",
       "    </tr>\n",
       "    <tr>\n",
       "      <th>4</th>\n",
       "      <td>Sapiens: A Brief History of Humankind</td>\n",
       "      <td>Â£54.23</td>\n",
       "      <td>From a renowned historian comes a groundbreaki...</td>\n",
       "    </tr>\n",
       "    <tr>\n",
       "      <th>...</th>\n",
       "      <td>...</td>\n",
       "      <td>...</td>\n",
       "      <td>...</td>\n",
       "    </tr>\n",
       "    <tr>\n",
       "      <th>95</th>\n",
       "      <td>Lumberjanes Vol. 3: A Terrible Plan (Lumberjan...</td>\n",
       "      <td>Â£19.92</td>\n",
       "      <td>This New York Times Bestselling series continu...</td>\n",
       "    </tr>\n",
       "    <tr>\n",
       "      <th>96</th>\n",
       "      <td>Layered: Baking, Building, and Styling Spectac...</td>\n",
       "      <td>Â£40.11</td>\n",
       "      <td>Itâs time to venture beyond vanilla and choc...</td>\n",
       "    </tr>\n",
       "    <tr>\n",
       "      <th>97</th>\n",
       "      <td>Judo: Seven Steps to Black Belt (an Introducto...</td>\n",
       "      <td>Â£53.90</td>\n",
       "      <td>Displaying the most impressive throws, compell...</td>\n",
       "    </tr>\n",
       "    <tr>\n",
       "      <th>98</th>\n",
       "      <td>Join</td>\n",
       "      <td>Â£35.67</td>\n",
       "      <td>What if you could live multiple lives simultan...</td>\n",
       "    </tr>\n",
       "    <tr>\n",
       "      <th>99</th>\n",
       "      <td>In the Country We Love: My Family Divided</td>\n",
       "      <td>Â£22.00</td>\n",
       "      <td>The star of Orange is the New Black and Jane t...</td>\n",
       "    </tr>\n",
       "  </tbody>\n",
       "</table>\n",
       "<p>100 rows × 3 columns</p>\n",
       "</div>"
      ],
      "text/plain": [
       "                                                Title    Price  \\\n",
       "0                                A Light in the Attic  Â£51.77   \n",
       "1                                  Tipping the Velvet  Â£53.74   \n",
       "2                                          Soumission  Â£50.10   \n",
       "3                                       Sharp Objects  Â£47.82   \n",
       "4               Sapiens: A Brief History of Humankind  Â£54.23   \n",
       "..                                                ...      ...   \n",
       "95  Lumberjanes Vol. 3: A Terrible Plan (Lumberjan...  Â£19.92   \n",
       "96  Layered: Baking, Building, and Styling Spectac...  Â£40.11   \n",
       "97  Judo: Seven Steps to Black Belt (an Introducto...  Â£53.90   \n",
       "98                                               Join  Â£35.67   \n",
       "99          In the Country We Love: My Family Divided  Â£22.00   \n",
       "\n",
       "                                              Content  \n",
       "0   It's hard to imagine a world without A Light i...  \n",
       "1   \"Erotic and absorbing...Written with starling ...  \n",
       "2   Dans une France assez proche de la nÃ´tre, un ...  \n",
       "3   WICKED above her hipbone, GIRL across her hear...  \n",
       "4   From a renowned historian comes a groundbreaki...  \n",
       "..                                                ...  \n",
       "95  This New York Times Bestselling series continu...  \n",
       "96  Itâs time to venture beyond vanilla and choc...  \n",
       "97  Displaying the most impressive throws, compell...  \n",
       "98  What if you could live multiple lives simultan...  \n",
       "99  The star of Orange is the New Black and Jane t...  \n",
       "\n",
       "[100 rows x 3 columns]"
      ]
     },
     "execution_count": 97,
     "metadata": {},
     "output_type": "execute_result"
    }
   ],
   "source": [
    "df = pd.DataFrame(data=zip(*all_info), columns=['Title', 'Price', 'Content'])\n",
    "df"
   ]
  },
  {
   "cell_type": "code",
   "execution_count": 94,
   "metadata": {},
   "outputs": [
    {
     "data": {
      "text/plain": [
       "3"
      ]
     },
     "execution_count": 94,
     "metadata": {},
     "output_type": "execute_result"
    }
   ],
   "source": []
  }
 ],
 "metadata": {
  "kernelspec": {
   "display_name": "Python 3",
   "language": "python",
   "name": "python3"
  },
  "language_info": {
   "codemirror_mode": {
    "name": "ipython",
    "version": 3
   },
   "file_extension": ".py",
   "mimetype": "text/x-python",
   "name": "python",
   "nbconvert_exporter": "python",
   "pygments_lexer": "ipython3",
   "version": "3.6.8"
  }
 },
 "nbformat": 4,
 "nbformat_minor": 2
}
